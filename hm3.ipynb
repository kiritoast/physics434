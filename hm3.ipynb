{
 "cells": [
  {
   "cell_type": "markdown",
   "id": "af8ec784-1bf9-4cb8-844b-820a701e13f3",
   "metadata": {},
   "source": [
    "1a) Which algorithm makes the fewest mistakes?\n",
    "\n",
    "The first algorithm makes the fewest mistakes. It has 8 miscategorizations and second have 12\n",
    "\n",
    "1b) Which algorithm is better for the zoo? Explain.\n",
    "\n",
    "The first algorithm is better for the zoo. In the zoo, we want less false person identification. First have 5 and second have 11.\n",
    "\n",
    "1c) During the pandemic the number of visitors plummets, and it is only the zoo keeper visiting. So instead of 52% of the photos taken at the aviary door being people, it is now only 1%. Make new truth tables for both algorithms.\n"
   ]
  },
  {
   "cell_type": "code",
   "execution_count": 24,
   "id": "f430f84e-fe9f-4656-9f4b-64555a215ea0",
   "metadata": {},
   "outputs": [],
   "source": [
    "from tabulate import tabulate\n",
    "import numpy as np\n",
    "import matplotlib\n",
    "import matplotlib.pyplot as plt\n",
    "import scipy\n",
    "from scipy import stats\n",
    "import math\n",
    "from scipy.stats import poisson\n",
    "from scipy.stats import rayleigh\n",
    "from scipy.stats import norm\n",
    "import seaborn as sns\n"
   ]
  },
  {
   "cell_type": "code",
   "execution_count": 19,
   "id": "bc7eca31-88a5-42f8-bf9d-3dd7c06799f9",
   "metadata": {},
   "outputs": [],
   "source": [
    "algorithm1 = [['/', 'true bird', 'true person'],\n",
    "          ['NA bird', '93', '0'],\n",
    "          ['NA person', '6', '1']]\n",
    "algorithm2 = [['/', 'true bird', 'true person'],\n",
    "          ['NA bird', '97', '0'],\n",
    "          ['NA person', '2', '1']]\n"
   ]
  },
  {
   "cell_type": "code",
   "execution_count": 20,
   "id": "50009266-fb73-465c-8f11-17aad26a90d2",
   "metadata": {},
   "outputs": [
    {
     "name": "stdout",
     "output_type": "stream",
     "text": [
      "---------  ---------  -----------\n",
      "/          true bird  true person\n",
      "NA bird    93         0\n",
      "NA person  6          1\n",
      "---------  ---------  -----------\n",
      "---------  ---------  -----------\n",
      "/          true bird  true person\n",
      "NA bird    97         0\n",
      "NA person  2          1\n",
      "---------  ---------  -----------\n"
     ]
    }
   ],
   "source": [
    "print(tabulate(algorithm1))\n",
    "print(tabulate(algorithm2))\n"
   ]
  },
  {
   "cell_type": "markdown",
   "id": "2c38e3b4-93e0-481e-8461-98c7e1e2daa4",
   "metadata": {},
   "source": [
    "2.(a) pdf of a exponential distribution is $f(x) = \\lambda e^{-\\lambda x}$, when we convolve two distribution we get $f_2(x) = \\int_0^u f(x) f(u-x) \\,dx = \\lambda^2 xe^{-\\lambda x}$. Convert it to gamma distribution, we get $\\alpha = 2$, $\\beta = \\lambda$"
   ]
  },
  {
   "cell_type": "markdown",
   "id": "8982a402-7876-4906-b0df-f2352d811596",
   "metadata": {},
   "source": [
    "2.(b) pdf for zero-mean unity variance normal distributions is $\\frac{e^{-x^2}}{\\sqrt{2\\pi}\t}$. If $Z=\\frac{X_1}{X_2}$, it is converted to pdf for cauchy distribution.  $\\frac{1}{\\pi\\gamma*[1+(\\frac{x-x_0}{\\gamma})]^2}$. In this case, $\\gamma$ is 1 and $X_0=0$"
   ]
  },
  {
   "cell_type": "markdown",
   "id": "8dd9f7f8-fc63-4384-9354-21c5fea13fa2",
   "metadata": {},
   "source": [
    "2.(c) The amplitude for 2D Guassian vector $Z=\\sqrt{X^2+Y^2}$.\n",
    "The pdf is  $\\frac{z}{\\sqrt{\\sigma}\t}*\\frac{e^-(x^2)}{2\\sigma^2}$, which is the pdf of Rayleigh distribution."
   ]
  },
  {
   "cell_type": "code",
   "execution_count": null,
   "id": "c28d30b7-200c-475e-9334-7141e585eb40",
   "metadata": {},
   "outputs": [],
   "source": []
  }
 ],
 "metadata": {
  "kernelspec": {
   "display_name": "Python 3",
   "language": "python",
   "name": "python3"
  },
  "language_info": {
   "codemirror_mode": {
    "name": "ipython",
    "version": 3
   },
   "file_extension": ".py",
   "mimetype": "text/x-python",
   "name": "python",
   "nbconvert_exporter": "python",
   "pygments_lexer": "ipython3",
   "version": "3.8.8"
  }
 },
 "nbformat": 4,
 "nbformat_minor": 5
}
