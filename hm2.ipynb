{
 "cells": [
  {
   "cell_type": "code",
   "execution_count": 2,
   "id": "e0474b55-b57b-463e-a341-38da3c557741",
   "metadata": {},
   "outputs": [],
   "source": [
    "import numpy as np\n",
    "import matplotlib\n",
    "import matplotlib.pyplot as plt\n",
    "import scipy\n",
    "from scipy import stats\n",
    "import math"
   ]
  },
  {
   "cell_type": "code",
   "execution_count": 3,
   "id": "c8a07311-5eb8-43f3-999e-4f7b02637610",
   "metadata": {},
   "outputs": [],
   "source": [
    "#1\n",
    "#A little introductory brain teaser. Which is more probable when rolling 2 six-sided dice: rolling snake \n",
    "#eyes (two ones) or rolling sevens (dice sum to seven)? What is the ratio of the probabilities?\n"
   ]
  },
  {
   "cell_type": "code",
   "execution_count": 4,
   "id": "1b0a21ee-da3f-426d-b096-9e4607e8aa78",
   "metadata": {},
   "outputs": [],
   "source": [
    "P_a = 1/6\n",
    "P_b = 1/6"
   ]
  },
  {
   "cell_type": "code",
   "execution_count": 5,
   "id": "c42aa378-f757-4af0-990b-fc415f317d2d",
   "metadata": {},
   "outputs": [
    {
     "data": {
      "text/plain": [
       "0.027777777777777776"
      ]
     },
     "execution_count": 5,
     "metadata": {},
     "output_type": "execute_result"
    }
   ],
   "source": [
    "P_snakeeye = P_a * P_b\n",
    "P_snakeeye"
   ]
  },
  {
   "cell_type": "code",
   "execution_count": 6,
   "id": "789cd170-9106-4304-b3d7-4ed5d0ac84e6",
   "metadata": {},
   "outputs": [
    {
     "data": {
      "text/plain": [
       "0.16666666666666666"
      ]
     },
     "execution_count": 6,
     "metadata": {},
     "output_type": "execute_result"
    }
   ],
   "source": [
    "#rolling 7 possibility: (1,6)(2,5)(3,4)(4,3)(5,2)(6,1)\n",
    "P_sevens=6/36\n",
    "P_sevens"
   ]
  },
  {
   "cell_type": "code",
   "execution_count": 7,
   "id": "c97ca335-b783-484d-84ee-4fe0fe7bb4ed",
   "metadata": {},
   "outputs": [
    {
     "data": {
      "text/plain": [
       "0.16666666666666666"
      ]
     },
     "execution_count": 7,
     "metadata": {},
     "output_type": "execute_result"
    }
   ],
   "source": [
    "#ratio of the probabilities\n",
    "P_snakeeye/P_sevens"
   ]
  },
  {
   "cell_type": "code",
   "execution_count": 8,
   "id": "3aba167b-6313-4821-989c-69ebb0ecbeb0",
   "metadata": {},
   "outputs": [
    {
     "name": "stdout",
     "output_type": "stream",
     "text": [
      "[0.02777778 0.05555556 0.08333333 0.11111111 0.13888889 0.16666667\n",
      " 0.13888889 0.11111111 0.08333333 0.05555556 0.02777778]\n"
     ]
    }
   ],
   "source": [
    "#2\n",
    "#Following what we did in class show how to use the convolution operator to determine the probability of the sum of\n",
    "#2 six sided dice. Do both analytically (math & counting) and numerically (computer program). Beware the implicit \n",
    "#definition of the values (x-axis on histogram).\n",
    "\n",
    "#analytically\n",
    "P_dice = [1/6,1/6,1/6,1/6,1/6,1/6]\n",
    "probability = np.convolve(P_dice,P_dice)\n",
    "print(probability)\n"
   ]
  },
  {
   "cell_type": "code",
   "execution_count": 9,
   "id": "05a27be5-59aa-4d7f-b0f1-924948a0d808",
   "metadata": {},
   "outputs": [
    {
     "data": {
      "text/plain": [
       "<BarContainer object of 11 artists>"
      ]
     },
     "execution_count": 9,
     "metadata": {},
     "output_type": "execute_result"
    },
    {
     "data": {
      "image/png": "[encoded data removed]",
      "text/plain": [
       "<Figure size 432x288 with 1 Axes>"
      ]
     },
     "metadata": {
      "needs_background": "light"
     },
     "output_type": "display_data"
    }
   ],
   "source": [
    "sum = [2,3,4,5,6,7,8,9,10,11,12]\n",
    "\n",
    "plt.bar(sum, probability, width = 0.5, color='#0504aa',alpha=0.7)\n"
   ]
  },
  {
   "cell_type": "code",
   "execution_count": 15,
   "id": "d589b0cf-72c8-4296-89dd-2e74e9c52b8b",
   "metadata": {},
   "outputs": [
    {
     "name": "stdout",
     "output_type": "stream",
     "text": [
      "6.999999999999998 5.833333333333333\n"
     ]
    }
   ],
   "source": [
    "#3 Calculate the mean and the variance of the distribution in problem 2. Hint: this is surprisingly \n",
    "#tricky, make sure your result makes sense.\n",
    "mean = np.sum(sum*probability)\n",
    "variance = np.sum((sum-mean)**2 * probability)\n",
    "print(mean,variance)"
   ]
  },
  {
   "cell_type": "code",
   "execution_count": 78,
   "id": "9b2c39eb-b70e-4244-bcbe-0c8fec4a6694",
   "metadata": {},
   "outputs": [
    {
     "name": "stdout",
     "output_type": "stream",
     "text": [
      "[1.65381717e-08 1.65381717e-07 9.09599443e-07 3.63839777e-06\n",
      " 1.18247928e-05 3.31094197e-05 8.26081676e-05 1.87542867e-04\n",
      " 3.92946959e-04 7.67701930e-04 1.40951530e-03 2.44665712e-03\n",
      " 4.03407353e-03 6.34189270e-03 9.53533096e-03 1.37465945e-02\n",
      " 1.90415547e-02 2.53867551e-02 3.26236936e-02 4.04573294e-02\n",
      " 4.84643679e-02 5.61241048e-02 6.28704385e-02 6.81581055e-02\n",
      " 7.15327194e-02 7.26928060e-02 7.15327194e-02 6.81581055e-02\n",
      " 6.28704385e-02 5.61241048e-02 4.84643679e-02 4.04573294e-02\n",
      " 3.26236936e-02 2.53867551e-02 1.90415547e-02 1.37465945e-02\n",
      " 9.53533096e-03 6.34189270e-03 4.03407353e-03 2.44665712e-03\n",
      " 1.40951530e-03 7.67701930e-04 3.92946959e-04 1.87542867e-04\n",
      " 8.26081676e-05 3.31094197e-05 1.18247928e-05 3.63839777e-06\n",
      " 9.09599443e-07 1.65381717e-07 1.65381717e-08]\n"
     ]
    },
    {
     "data": {
      "text/plain": [
       "51"
      ]
     },
     "execution_count": 78,
     "metadata": {},
     "output_type": "execute_result"
    }
   ],
   "source": [
    "#4 Repeat 2, and graph the average of 10 dice. Is this is a Gaussian distribution? Explain in depth.\n",
    "average_10 =probability\n",
    "for i in range(8):\n",
    "    average_10 = np.convolve(P_dice, average_10)\n",
    "print(average_10)\n",
    "len(average_10)"
   ]
  },
  {
   "cell_type": "code",
   "execution_count": 79,
   "id": "4301573c-9451-46e0-b287-f225827261e7",
   "metadata": {},
   "outputs": [
    {
     "name": "stdout",
     "output_type": "stream",
     "text": [
      "[2, 3, 4, 5, 6, 7, 8, 9, 10, 11, 12]\n",
      "[10, 11, 12, 13, 14, 15, 16, 17, 18, 19, 20, 21, 22, 23, 24, 25, 26, 27, 28, 29, 30, 31, 32, 33, 34, 35, 36, 37, 38, 39, 40, 41, 42, 43, 44, 45, 46, 47, 48, 49, 50, 51, 52, 53, 54, 55, 56, 57, 58, 59, 60]\n"
     ]
    },
    {
     "data": {
      "text/plain": [
       "<BarContainer object of 51 artists>"
      ]
     },
     "execution_count": 79,
     "metadata": {},
     "output_type": "execute_result"
    },
    {
     "data": {
      "image/png": "[encoded data removed]",
      "text/plain": [
       "<Figure size 432x288 with 1 Axes>"
      ]
     },
     "metadata": {
      "needs_background": "light"
     },
     "output_type": "display_data"
    }
   ],
   "source": [
    "x_bar = list(range(10,61))\n",
    "\n",
    "print(sum)\n",
    "print(x_bar)\n",
    "len(x_bar)\n",
    "plt.bar(x_bar, average_10, width = 0.5, color='#0504aa',alpha=0.7)\n"
   ]
  },
  {
   "cell_type": "code",
   "execution_count": 80,
   "id": "46eb3844-ab36-42b7-a0a9-a0511cc3a5b1",
   "metadata": {},
   "outputs": [],
   "source": [
    "#This is not a Gaussian distribution. First, the total probability added to one. All the data is from real data. \n",
    "#It looks like Gaussian, this is a non-continuous distribuition.\n"
   ]
  },
  {
   "cell_type": "code",
   "execution_count": 111,
   "id": "ddc6e1f5-6e59-469b-af71-64f18e559d70",
   "metadata": {},
   "outputs": [
    {
     "data": {
      "text/plain": [
       "[<matplotlib.lines.Line2D at 0x7ff03ba5fa00>]"
      ]
     },
     "execution_count": 111,
     "metadata": {},
     "output_type": "execute_result"
    }
   ],
   "source": [
    "#Show that the sum and average of an initially Gaussian distribution is also a Guassian (can be analytic or numerical). \n",
    "#How does the standard deviation of the resulting sum or average Guassian change? This is a hugely important result. \n",
    "#Explore what this means for integrating a signal over time\n",
    "fig, ax = plt.subplots(1, 1)\n",
    "d2 = d*2\n",
    "x = np.linspace(2.95,3.05,10000)\n",
    "ax.plot(x,stats.norm.pdf(x,loc = 3., scale = 0.01))"
   ]
  },
  {
   "cell_type": "code",
   "execution_count": 114,
   "id": "6517c9cb-d3a9-44c3-a899-fc8cbb251c20",
   "metadata": {},
   "outputs": [
    {
     "data": {
      "text/plain": [
       "[<matplotlib.lines.Line2D at 0x7ff03c1d2670>]"
      ]
     },
     "execution_count": 114,
     "metadata": {},
     "output_type": "execute_result"
    },
    {
     "data": {
      "image/png": "[encoded data removed]",
      "text/plain": [
       "<Figure size 432x288 with 1 Axes>"
      ]
     },
     "metadata": {
      "needs_background": "light"
     },
     "output_type": "display_data"
    }
   ],
   "source": [
    "fig, ax = plt.subplots(1, 1)\n",
    "x=np.average(x)\n",
    "ax.plot(x,stats.norm.pdf(x,loc = 3., scale = 0.01))"
   ]
  },
  {
   "cell_type": "code",
   "execution_count": null,
   "id": "9cb2dfba-d47f-45a1-945e-69b601dcd950",
   "metadata": {},
   "outputs": [],
   "source": []
  }
 ],
 "metadata": {
  "kernelspec": {
   "display_name": "Python 3",
   "language": "python",
   "name": "python3"
  },
  "language_info": {
   "codemirror_mode": {
    "name": "ipython",
    "version": 3
   },
   "file_extension": ".py",
   "mimetype": "text/x-python",
   "name": "python",
   "nbconvert_exporter": "python",
   "pygments_lexer": "ipython3",
   "version": "3.8.8"
  }
 },
 "nbformat": 4,
 "nbformat_minor": 5
}
