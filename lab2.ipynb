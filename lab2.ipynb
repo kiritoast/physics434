{
 "cells": [
  {
   "cell_type": "markdown",
   "id": "3f65f1a3-9c03-4b16-86d4-aa5779a1134a",
   "metadata": {},
   "source": [
    "Problem 1"
   ]
  },
  {
   "cell_type": "code",
   "execution_count": 19,
   "id": "641f0ab0-811f-4c63-a711-868a1ec72855",
   "metadata": {},
   "outputs": [],
   "source": [
    "import numpy as np\n",
    "import matplotlib\n",
    "import matplotlib.pyplot as plt\n",
    "import scipy\n",
    "from scipy import stats\n",
    "import math\n",
    "from scipy.stats import poisson\n"
   ]
  },
  {
   "cell_type": "code",
   "execution_count": 32,
   "id": "6d059acc-b396-44d5-b18d-2a571ed54554",
   "metadata": {},
   "outputs": [],
   "source": [
    "average_cosmic_ray = 3\n",
    "average_gamma_rays = 5"
   ]
  },
  {
   "cell_type": "code",
   "execution_count": 75,
   "id": "79c74be8-58df-4d21-b78d-60e21b596342",
   "metadata": {},
   "outputs": [
    {
     "name": "stdout",
     "output_type": "stream",
     "text": [
      "[4.97870684e-02 1.49361205e-01 2.24041808e-01 2.24041808e-01\n",
      " 1.68031356e-01 1.00818813e-01 5.04094067e-02 2.16040315e-02\n",
      " 8.10151179e-03 2.70050393e-03 8.10151179e-04 2.20950322e-04\n",
      " 5.52375804e-05 1.27471339e-05 2.73152870e-06]\n"
     ]
    },
    {
     "data": {
      "image/png": "[encoded data removed]",
      "text/plain": [
       "<Figure size 432x288 with 1 Axes>"
      ]
     },
     "metadata": {
      "needs_background": "light"
     },
     "output_type": "display_data"
    }
   ],
   "source": [
    "po = stats.poisson(average_cosmic_ray)\n",
    "x = np.arange(0, 15)\n",
    "pmf = po.pmf(x)\n",
    "plt.bar(x, pmf)\n",
    "print(pmf)"
   ]
  },
  {
   "cell_type": "code",
   "execution_count": 76,
   "id": "9b8680b0-a594-4096-bd8f-d280d80b39af",
   "metadata": {},
   "outputs": [
    {
     "data": {
      "text/plain": [
       "<BarContainer object of 85 artists>"
      ]
     },
     "execution_count": 76,
     "metadata": {},
     "output_type": "execute_result"
    },
    {
     "data": {
      "image/png": "[encoded data removed]",
      "text/plain": [
       "<Figure size 432x288 with 2 Axes>"
      ]
     },
     "metadata": {
      "needs_background": "light"
     },
     "output_type": "display_data"
    }
   ],
   "source": [
    "plt.subplot(1, 2, 1)\n",
    "average_5 =pmf\n",
    "for i in range(5):\n",
    "    average_5 = np.convolve(pmf, average_5)\n",
    "\n",
    "plt.bar(range(len(average_5)), average_5)\n",
    "plt.subplot(1, 2, 2)\n",
    "plt.yscale('log')\n",
    "plt.bar(range(len(average_5)), average_5)\n"
   ]
  },
  {
   "cell_type": "code",
   "execution_count": 77,
   "id": "bf108b04-b8db-40ba-83f0-9d961f937e14",
   "metadata": {},
   "outputs": [],
   "source": [
    "#this is still a Poisson distribution. After we log the graph we see it is not Gaussian. this make sense. the summ of 5 data\n",
    "#is only the addition of independent events. it looks like Gaussian because of central limit therom."
   ]
  },
  {
   "cell_type": "code",
   "execution_count": 86,
   "id": "800c6690-ced7-4e4e-8d02-afe28359dacc",
   "metadata": {},
   "outputs": [
    {
     "data": {
      "text/plain": [
       "<BarContainer object of 85 artists>"
      ]
     },
     "execution_count": 86,
     "metadata": {},
     "output_type": "execute_result"
    },
    {
     "data": {
      "image/png": "[encoded data removed]",
      "text/plain": [
       "<Figure size 432x288 with 2 Axes>"
      ]
     },
     "metadata": {
      "needs_background": "light"
     },
     "output_type": "display_data"
    }
   ],
   "source": [
    "plt.subplot(1, 2, 1)\n",
    "average_5 =pmf\n",
    "for i in range(5): \n",
    "    average_5 = np.convolve(pmf, average_5)\n",
    "\n",
    "plt.bar(np.average(range(len(average_5))), average_5/6)\n",
    "plt.subplot(1, 2, 2)\n",
    "plt.yscale('log')\n",
    "plt.bar(range(len(average_5)), average_5/6)\n"
   ]
  },
  {
   "cell_type": "code",
   "execution_count": null,
   "id": "207ee88c-875a-40d5-aa3c-985b7f348fa5",
   "metadata": {},
   "outputs": [],
   "source": [
    "#this is still a Poisson distribution with less sd. it looks like Gaussian because of central limit therom, more data were\n",
    "#took. it will become closer to Gaussian"
   ]
  }
 ],
 "metadata": {
  "kernelspec": {
   "display_name": "Python 3",
   "language": "python",
   "name": "python3"
  },
  "language_info": {
   "codemirror_mode": {
    "name": "ipython",
    "version": 3
   },
   "file_extension": ".py",
   "mimetype": "text/x-python",
   "name": "python",
   "nbconvert_exporter": "python",
   "pygments_lexer": "ipython3",
   "version": "3.8.8"
  }
 },
 "nbformat": 4,
 "nbformat_minor": 5
}
