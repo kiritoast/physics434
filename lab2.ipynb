{
 "cells": [
  {
   "cell_type": "markdown",
   "id": "3f65f1a3-9c03-4b16-86d4-aa5779a1134a",
   "metadata": {},
   "source": [
    "Problem 1"
   ]
  },
  {
   "cell_type": "code",
   "execution_count": 1,
   "id": "641f0ab0-811f-4c63-a711-868a1ec72855",
   "metadata": {},
   "outputs": [],
   "source": [
    "import numpy as np\n",
    "import matplotlib\n",
    "import matplotlib.pyplot as plt\n",
    "import scipy\n",
    "from scipy import stats\n",
    "import math"
   ]
  },
  {
   "cell_type": "code",
   "execution_count": 2,
   "id": "6d059acc-b396-44d5-b18d-2a571ed54554",
   "metadata": {},
   "outputs": [],
   "source": [
    "average_cosmic_ray = 3\n",
    "average_gamma_rays = 5"
   ]
  },
  {
   "cell_type": "code",
   "execution_count": 3,
   "id": "79c74be8-58df-4d21-b78d-60e21b596342",
   "metadata": {},
   "outputs": [],
   "source": [
    "p = np.random.poisson(200, 1000)"
   ]
  },
  {
   "cell_type": "code",
   "execution_count": null,
   "id": "9b8680b0-a594-4096-bd8f-d280d80b39af",
   "metadata": {},
   "outputs": [],
   "source": []
  }
 ],
 "metadata": {
  "kernelspec": {
   "display_name": "Python 3",
   "language": "python",
   "name": "python3"
  },
  "language_info": {
   "codemirror_mode": {
    "name": "ipython",
    "version": 3
   },
   "file_extension": ".py",
   "mimetype": "text/x-python",
   "name": "python",
   "nbconvert_exporter": "python",
   "pygments_lexer": "ipython3",
   "version": "3.8.8"
  }
 },
 "nbformat": 4,
 "nbformat_minor": 5
}
